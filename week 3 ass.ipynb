{
 "cells": [
  {
   "cell_type": "markdown",
   "id": "33b98bcf-96ac-4c85-9daa-156a7826a7ef",
   "metadata": {},
   "source": [
    "Q1. Create a python program to sort the given list of tuples based on integer value using a\n",
    "lambda function. \n",
    "\n",
    "\n",
    "[('Sachin Tendulkar', 34357), ('Ricky Ponting', 27483), ('Jack Kallis', 25534), ('Virat Kohli', 24936)]"
   ]
  },
  {
   "cell_type": "code",
   "execution_count": 11,
   "id": "1e275c3a-9a1b-456f-88fd-7fa9cf83bca6",
   "metadata": {},
   "outputs": [
    {
     "name": "stdout",
     "output_type": "stream",
     "text": [
      "[('Virat Kohli', 24936), ('Jack Kallis', 25534), ('Ricky Ponting', 27483), ('Sachin Tendulkar', 34357)]\n"
     ]
    }
   ],
   "source": [
    "l1 = [('Sachin Tendulkar', 34357), ('Ricky Ponting', 27483), ('Jack Kallis', 25534), ('Virat Kohli', 24936)]\n",
    "\n",
    "l1.sort(key = lambda x:x[1])\n",
    "print(l1)"
   ]
  },
  {
   "cell_type": "markdown",
   "id": "5df18585-33fb-4679-9121-b506e95edf8b",
   "metadata": {},
   "source": [
    "Q2. Write a Python Program to find the squares of all the numbers in the given list of integers using\n",
    "lambda and map functions.\n",
    "\n",
    "\n",
    "[1, 2, 3, 4, 5, 6, 7, 8, 9, 10]"
   ]
  },
  {
   "cell_type": "code",
   "execution_count": 3,
   "id": "a0b7b8db-386a-4f4b-b0af-e5d3c802a05c",
   "metadata": {},
   "outputs": [
    {
     "data": {
      "text/plain": [
       "[1, 4, 9, 16, 25, 36, 49, 64, 81, 100]"
      ]
     },
     "execution_count": 3,
     "metadata": {},
     "output_type": "execute_result"
    }
   ],
   "source": [
    "l = [1,2,3,4,5,6,7,8,9,10]\n",
    "\n",
    "list(map(lambda x : x**2, l))"
   ]
  },
  {
   "cell_type": "markdown",
   "id": "b8400e3f-ff05-4a48-8598-831a0ef60493",
   "metadata": {},
   "source": [
    "Q3. Write a python program to convert the given list of integers into a tuple of strings. Use map and\n",
    "lambda functions\n",
    "\n",
    "\n",
    "Given String: [1, 2, 3, 4, 5, 6, 7, 8, 9, 10]\n",
    "\n",
    "Expected output: ('1', '2', '3', '4', '5', '6', '7', '8', '9', '10')"
   ]
  },
  {
   "cell_type": "code",
   "execution_count": 6,
   "id": "2bb34cc8-3a46-43e3-a21a-58873c451316",
   "metadata": {},
   "outputs": [
    {
     "data": {
      "text/plain": [
       "['1', '2', '3', '4', '5', '6', '7', '8', '9', '10']"
      ]
     },
     "execution_count": 6,
     "metadata": {},
     "output_type": "execute_result"
    }
   ],
   "source": [
    "l = [1,2,3,4,5,6,7,8,9,10]\n",
    "\n",
    "list(map(lambda x : str(x) , l))"
   ]
  },
  {
   "cell_type": "markdown",
   "id": "d3a8d0a9-4310-43ba-b4f9-d7473646cfe4",
   "metadata": {},
   "source": [
    "Q4. Write a python program using reduce function to compute the product of a list containing numbers\n",
    "from 1 to 25."
   ]
  },
  {
   "cell_type": "code",
   "execution_count": 8,
   "id": "d15c6118-f233-4da2-b998-0bcaa4b57ea5",
   "metadata": {},
   "outputs": [
    {
     "data": {
      "text/plain": [
       "15511210043330985984000000"
      ]
     },
     "execution_count": 8,
     "metadata": {},
     "output_type": "execute_result"
    }
   ],
   "source": [
    "l = [1,2,3,4,5,6,7,8,9,10,11,12,13,14,15,16,17,18,19,20,21,22,23,24,25]\n",
    "\n",
    "from functools import reduce\n",
    "\n",
    "reduce(lambda x,y : x*y , l)"
   ]
  },
  {
   "cell_type": "markdown",
   "id": "7a80eb70-793c-417c-b03e-23edda3c6c7c",
   "metadata": {},
   "source": [
    "Q5. Write a python program to filter the numbers in a given list that are divisible by 2 and 3 using the\n",
    "filter function.\n",
    "\n",
    "\n",
    "[2, 3, 6, 9, 27, 60, 90, 120, 55, 46]"
   ]
  },
  {
   "cell_type": "code",
   "execution_count": 9,
   "id": "23fc7572-c4f5-4f3c-9b9e-72e866b9cdaa",
   "metadata": {},
   "outputs": [
    {
     "data": {
      "text/plain": [
       "[6, 60, 90, 120]"
      ]
     },
     "execution_count": 9,
     "metadata": {},
     "output_type": "execute_result"
    }
   ],
   "source": [
    "l = [2,3,6,9,27,60,90,120,55,46]\n",
    "\n",
    "list(filter(lambda x : x%2 == 0 and x%3 == 0 , l))"
   ]
  },
  {
   "cell_type": "markdown",
   "id": "bb3952cb-52d4-4d57-a641-a169b8acf6dc",
   "metadata": {},
   "source": [
    "Q6. Write a python program to find palindromes in the given list of strings using lambda and filter\n",
    "function.\n",
    "\n",
    "\n",
    "['python', 'php', 'aba', 'radar', 'level']"
   ]
  },
  {
   "cell_type": "code",
   "execution_count": 10,
   "id": "d34f203c-418e-4604-92dd-be236081ab66",
   "metadata": {},
   "outputs": [
    {
     "name": "stdout",
     "output_type": "stream",
     "text": [
      "*******************\n",
      "Palindrome with string slicing = ['php', 'aba', 'radar', 'level']\n",
      "Palindromes with reverse function= ['php', 'aba', 'radar', 'level']\n",
      "*******************\n",
      "\n"
     ]
    }
   ],
   "source": [
    "from typing import List\n",
    "\n",
    "def get_palindromes(input_strings:List[str]):\n",
    "    palindromes_slicing = list(filter(lambda the_str: the_str.lower() == the_str.lower()[::-1], input_strings))\n",
    "    palindromes_reverse_func = list(filter(lambda the_str: the_str.lower() == \"\".join(reversed(the_str.lower())),\n",
    "                                           input_strings))\n",
    "\n",
    "    print(\"*******************\")\n",
    "    print('Palindrome with string slicing = {}'.format(palindromes_slicing))\n",
    "    print('Palindromes with reverse function= {}'.format(palindromes_reverse_func))\n",
    "    print(\"*******************\\n\")\n",
    "\n",
    "if __name__ == '__main__':\n",
    "    input_string_list = ['Python', 'php', 'aba', 'radar' , 'level']\n",
    "    get_palindromes(input_string_list)"
   ]
  },
  {
   "cell_type": "code",
   "execution_count": null,
   "id": "62f44c32-f738-4dc7-8090-5e3a52397895",
   "metadata": {},
   "outputs": [],
   "source": []
  }
 ],
 "metadata": {
  "kernelspec": {
   "display_name": "Python 3 (ipykernel)",
   "language": "python",
   "name": "python3"
  },
  "language_info": {
   "codemirror_mode": {
    "name": "ipython",
    "version": 3
   },
   "file_extension": ".py",
   "mimetype": "text/x-python",
   "name": "python",
   "nbconvert_exporter": "python",
   "pygments_lexer": "ipython3",
   "version": "3.10.8"
  }
 },
 "nbformat": 4,
 "nbformat_minor": 5
}
